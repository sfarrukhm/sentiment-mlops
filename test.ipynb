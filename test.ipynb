{
 "cells": [
  {
   "cell_type": "code",
   "execution_count": null,
   "id": "a224b8ac",
   "metadata": {},
   "outputs": [],
   "source": [
    "import torch\n",
    "from transformers import AutoModelForSequenceClassification, AutoTokenizer\n",
    "from datasets import load_dataset\n"
   ]
  },
  {
   "cell_type": "code",
   "execution_count": 2,
   "id": "568d4345",
   "metadata": {},
   "outputs": [],
   "source": [
    "# data = load_dataset(\"imdb\")\n",
    "tokenizer = AutoTokenizer.from_pretrained(r\"models\\distilbert_model\")\n",
    "model = AutoModelForSequenceClassification.from_pretrained(r\"models\\distilbert_model\", num_labels=2)"
   ]
  },
  {
   "cell_type": "code",
   "execution_count": null,
   "id": "9d5749e3",
   "metadata": {},
   "outputs": [],
   "source": []
  },
  {
   "cell_type": "code",
   "execution_count": null,
   "id": "ce2fe970",
   "metadata": {},
   "outputs": [
    {
     "data": {
      "text/plain": [
       "('./model\\\\tokenizer_config.json',\n",
       " './model\\\\special_tokens_map.json',\n",
       " './model\\\\vocab.txt',\n",
       " './model\\\\added_tokens.json',\n",
       " './model\\\\tokenizer.json')"
      ]
     },
     "execution_count": 7,
     "metadata": {},
     "output_type": "execute_result"
    }
   ],
   "source": [
    "\n",
    "# Force CPU for quantization\n",
    "device = torch.device(\"cpu\")\n",
    "model.to(device)\n",
    "\n",
    "# =====================\n",
    "# Load dataset\n",
    "# =====================\n",
    "imdb = load_dataset(\"imdb\")\n",
    "test_texts = imdb[\"test\"][\"text\"][:200]   # subset for quick benchmark\n",
    "test_labels = imdb[\"test\"][\"label\"][:200]\n",
    "\n",
    "# =====================\n",
    "# Evaluation function\n",
    "# =====================\n",
    "def evaluate(model, tokenizer, texts, labels):\n",
    "    model.eval()\n",
    "    correct = 0\n",
    "    start = time.time()\n",
    "    with torch.no_grad():\n",
    "        for text, label in zip(texts, labels):\n",
    "            inputs = tokenizer(text, return_tensors=\"pt\", truncation=True, padding=True).to(device)\n",
    "            outputs = model(**inputs)\n",
    "            pred = torch.argmax(outputs.logits, dim=1).item()\n",
    "            correct += (pred == label)\n",
    "    latency = (time.time() - start) / len(texts)\n",
    "    accuracy = correct / len(texts)\n",
    "    return accuracy, latency\n",
    "\n",
    "# =====================\n",
    "# Benchmark FP32\n",
    "# =====================\n",
    "acc_fp32, latency_fp32 = evaluate(model, tokenizer, test_texts, test_labels)\n",
    "print(f\"[FP32] Accuracy: {acc_fp32:.4f}, Latency: {latency_fp32:.4f}s/sample\")\n",
    "\n",
    "# =====================\n",
    "# Quantize model (INT8)\n",
    "# =====================\n",
    "quantized_model = torch.quantization.quantize_dynamic(\n",
    "    model, {torch.nn.Linear}, dtype=torch.qint8\n",
    ")\n",
    "\n",
    "# =====================\n",
    "# Benchmark INT8\n",
    "# =====================\n",
    "acc_int8, latency_int8 = evaluate(quantized_model, tokenizer, test_texts, test_labels)\n",
    "print(f\"[INT8] Accuracy: {acc_int8:.4f}, Latency: {latency_int8:.4f}s/sample\")\n",
    "\n",
    "# =====================\n",
    "# Compare memory footprint\n",
    "# =====================\n",
    "def get_size(model):\n",
    "    torch.save(model.state_dict(), \"temp.p\")\n",
    "    size = os.path.getsize(\"temp.p\") / 1e6\n",
    "    os.remove(\"temp.p\")\n",
    "    return size\n",
    "\n",
    "print(f\"Model size (FP32): {get_size(model):.2f} MB\")\n",
    "print(f\"Model size (INT8): {get_size(quantized_model):.2f} MB\")\n"
   ]
  },
  {
   "cell_type": "code",
   "execution_count": null,
   "id": "24ab573c",
   "metadata": {},
   "outputs": [],
   "source": []
  }
 ],
 "metadata": {
  "kernelspec": {
   "display_name": ".venv-smlops",
   "language": "python",
   "name": "python3"
  },
  "language_info": {
   "codemirror_mode": {
    "name": "ipython",
    "version": 3
   },
   "file_extension": ".py",
   "mimetype": "text/x-python",
   "name": "python",
   "nbconvert_exporter": "python",
   "pygments_lexer": "ipython3",
   "version": "3.12.10"
  }
 },
 "nbformat": 4,
 "nbformat_minor": 5
}
